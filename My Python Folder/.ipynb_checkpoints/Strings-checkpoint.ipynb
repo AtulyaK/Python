{
 "cells": [
  {
   "cell_type": "markdown",
   "id": "62204b35",
   "metadata": {},
   "source": [
    "# Strings"
   ]
  },
  {
   "cell_type": "markdown",
   "id": "e5552058",
   "metadata": {},
   "source": [
    "## Definition"
   ]
  },
  {
   "cell_type": "markdown",
   "id": "37d078ee",
   "metadata": {},
   "source": [
    "Strings are sequences of characters, using the syntax of either single quotes or double quotes:\n",
    "1. \"Hello\"\n",
    "2. 'Hello'\n",
    "3. \"I am here.\""
   ]
  },
  {
   "cell_type": "markdown",
   "id": "430424ec",
   "metadata": {},
   "source": [
    "Note: The importance of Double quotes is wanting to keep single quotes in the string without interference"
   ]
  },
  {
   "cell_type": "markdown",
   "id": "29afaa2f",
   "metadata": {},
   "source": [
    "## Indexing"
   ]
  },
  {
   "cell_type": "markdown",
   "id": "2357d2d2",
   "metadata": {},
   "source": [
    "Strings are ordered sequences, and therefore each item in the sequence has an index. We can use the indexing to grab sub-sections of the string"
   ]
  },
  {
   "cell_type": "markdown",
   "id": "f1433977",
   "metadata": {},
   "source": [
    "<b> The indexing notation is square brackets or [] </b>"
   ]
  },
  {
   "cell_type": "markdown",
   "id": "168257b7",
   "metadata": {},
   "source": [
    "Every character has an index."
   ]
  },
  {
   "cell_type": "markdown",
   "id": "55654bc9",
   "metadata": {},
   "source": [
    "|  |  |   |  | | | |\n",
    "|:-|:-:|-:|-:|-:|-:|-:|\n",
    "|Characters| a| b| c| d| e| f|\n",
    "|Index Value|  0| 1| 2| 3| 4| 5|\n",
    "|Reverse Index| 0|-5|-4|-3|-2|-1|\n",
    "\n",
    "<b> Index Values begin at 0. </b>"
   ]
  },
  {
   "cell_type": "markdown",
   "id": "eaa4bc46",
   "metadata": {},
   "source": [
    "Slicing allows you to get a slice of the string"
   ]
  },
  {
   "cell_type": "markdown",
   "id": "63eeb7d5",
   "metadata": {},
   "source": [
    " <em><b>Syntax:\n",
    "    [start:stop:step]</b>\n",
    "</em>\n",
    "\n",
    "Start: a numerical index for start of slice\n",
    "\n",
    "Stop: index you go up to but not include\n",
    "\n",
    "Step: size of \"jump\" taken"
   ]
  },
  {
   "cell_type": "markdown",
   "id": "d42121ce",
   "metadata": {},
   "source": [
    "## General Strings Practice"
   ]
  },
  {
   "cell_type": "code",
   "execution_count": 6,
   "id": "0a7e232b",
   "metadata": {},
   "outputs": [
    {
     "data": {
      "text/plain": [
       "'hello'"
      ]
     },
     "execution_count": 6,
     "metadata": {},
     "output_type": "execute_result"
    }
   ],
   "source": [
    "'hello'"
   ]
  },
  {
   "cell_type": "code",
   "execution_count": 7,
   "id": "eb8875e9",
   "metadata": {},
   "outputs": [
    {
     "data": {
      "text/plain": [
       "'Hello'"
      ]
     },
     "execution_count": 7,
     "metadata": {},
     "output_type": "execute_result"
    }
   ],
   "source": [
    "\"Hello\""
   ]
  },
  {
   "cell_type": "code",
   "execution_count": 8,
   "id": "282b81f6",
   "metadata": {},
   "outputs": [
    {
     "data": {
      "text/plain": [
       "'this is also an example of a string'"
      ]
     },
     "execution_count": 8,
     "metadata": {},
     "output_type": "execute_result"
    }
   ],
   "source": [
    "'this is also an example of a string'"
   ]
  },
  {
   "cell_type": "code",
   "execution_count": 9,
   "id": "103a1ecd",
   "metadata": {},
   "outputs": [
    {
     "ename": "SyntaxError",
     "evalue": "invalid syntax (Temp/ipykernel_6892/1163665345.py, line 1)",
     "output_type": "error",
     "traceback": [
      "\u001b[1;36m  File \u001b[1;32m\"C:\\Users\\Lucario\\AppData\\Local\\Temp/ipykernel_6892/1163665345.py\"\u001b[1;36m, line \u001b[1;32m1\u001b[0m\n\u001b[1;33m    ' I'm going on a run '\u001b[0m\n\u001b[1;37m        ^\u001b[0m\n\u001b[1;31mSyntaxError\u001b[0m\u001b[1;31m:\u001b[0m invalid syntax\n"
     ]
    }
   ],
   "source": [
    "' I'm going on a run '"
   ]
  },
  {
   "cell_type": "markdown",
   "id": "7fd6f0d3",
   "metadata": {},
   "source": [
    "The problem with using single quotes in instances like this is because Python believes the string ends with the single quote used as a contraction. Python does not know this though. So in an instance like this use Double quotes."
   ]
  },
  {
   "cell_type": "code",
   "execution_count": 10,
   "id": "08792834",
   "metadata": {},
   "outputs": [
    {
     "data": {
      "text/plain": [
       "\"I'm going on a run\""
      ]
     },
     "execution_count": 10,
     "metadata": {},
     "output_type": "execute_result"
    }
   ],
   "source": [
    "\"I'm going on a run\""
   ]
  },
  {
   "cell_type": "code",
   "execution_count": 11,
   "id": "c7068d84",
   "metadata": {},
   "outputs": [
    {
     "name": "stdout",
     "output_type": "stream",
     "text": [
      "Hello\n"
     ]
    }
   ],
   "source": [
    "print(\"Hello\")"
   ]
  },
  {
   "cell_type": "markdown",
   "id": "e3ed0a5c",
   "metadata": {},
   "source": [
    "Before, the environment just outputed the information provided in the string making the single and double quotes appear. With the print function, we can print the string so that the quotes do not appear"
   ]
  },
  {
   "cell_type": "code",
   "execution_count": 12,
   "id": "22a8a7f5",
   "metadata": {},
   "outputs": [
    {
     "data": {
      "text/plain": [
       "'Hello world two'"
      ]
     },
     "execution_count": 12,
     "metadata": {},
     "output_type": "execute_result"
    }
   ],
   "source": [
    "\"Hello world one\"\n",
    "\"Hello world two\""
   ]
  },
  {
   "cell_type": "markdown",
   "id": "4a840a66",
   "metadata": {},
   "source": [
    "As demonstrated above,the second string is only produced. "
   ]
  },
  {
   "cell_type": "code",
   "execution_count": 15,
   "id": "186eeef7",
   "metadata": {},
   "outputs": [
    {
     "name": "stdout",
     "output_type": "stream",
     "text": [
      "Hello world oneHello world two\n",
      "Hello world one\n",
      "Hello world two\n"
     ]
    }
   ],
   "source": [
    "# If you use the print function, both strings are produced.\n",
    "print(\"Hello world one\"\n",
    "\"Hello world two\" )\n",
    "# or \n",
    "print(\"Hello world one\")\n",
    "print(\"Hello world two\")"
   ]
  },
  {
   "cell_type": "code",
   "execution_count": 17,
   "id": "f4ae8e3b",
   "metadata": {},
   "outputs": [
    {
     "name": "stdout",
     "output_type": "stream",
     "text": [
      "hello \n",
      " world\n",
      "hello\t world\n"
     ]
    }
   ],
   "source": [
    "print('hello \\n world')\n",
    "# \\n creates a new line in a string\n",
    "print(\"hello\\t world\")\n",
    "#\\t tabs the rest of the string"
   ]
  },
  {
   "cell_type": "code",
   "execution_count": 18,
   "id": "00a827ee",
   "metadata": {},
   "outputs": [
    {
     "data": {
      "text/plain": [
       "5"
      ]
     },
     "execution_count": 18,
     "metadata": {},
     "output_type": "execute_result"
    }
   ],
   "source": [
    "# the len function reports back the length of the string. \n",
    "len(\"hello\")"
   ]
  },
  {
   "cell_type": "code",
   "execution_count": 21,
   "id": "94ec25c2",
   "metadata": {},
   "outputs": [
    {
     "data": {
      "text/plain": [
       "5"
      ]
     },
     "execution_count": 21,
     "metadata": {},
     "output_type": "execute_result"
    }
   ],
   "source": [
    "len(\" I am\")\n",
    "# spaces are included in regards to the length function"
   ]
  },
  {
   "cell_type": "markdown",
   "id": "37ed161f",
   "metadata": {},
   "source": [
    "## Indexing and Slicing Strings Practice"
   ]
  },
  {
   "cell_type": "code",
   "execution_count": 22,
   "id": "ab0a51cd",
   "metadata": {},
   "outputs": [],
   "source": [
    "mystring=\"hello world\""
   ]
  },
  {
   "cell_type": "code",
   "execution_count": 23,
   "id": "dcbb3596",
   "metadata": {},
   "outputs": [
    {
     "data": {
      "text/plain": [
       "'hello world'"
      ]
     },
     "execution_count": 23,
     "metadata": {},
     "output_type": "execute_result"
    }
   ],
   "source": [
    "mystring"
   ]
  },
  {
   "cell_type": "code",
   "execution_count": 26,
   "id": "924be01e",
   "metadata": {},
   "outputs": [
    {
     "data": {
      "text/plain": [
       "'h'"
      ]
     },
     "execution_count": 26,
     "metadata": {},
     "output_type": "execute_result"
    }
   ],
   "source": [
    "mystring[0]\n",
    "# doing this allows the output of a the first character"
   ]
  },
  {
   "cell_type": "code",
   "execution_count": 25,
   "id": "c78cde19",
   "metadata": {},
   "outputs": [
    {
     "data": {
      "text/plain": [
       "'r'"
      ]
     },
     "execution_count": 25,
     "metadata": {},
     "output_type": "execute_result"
    }
   ],
   "source": [
    "mystring[8]\n",
    "# Trying to get the output of r, we choose 8 because it is the 8th character in the string"
   ]
  },
  {
   "cell_type": "code",
   "execution_count": 29,
   "id": "031d1c54",
   "metadata": {},
   "outputs": [
    {
     "data": {
      "text/plain": [
       "'l'"
      ]
     },
     "execution_count": 29,
     "metadata": {},
     "output_type": "execute_result"
    }
   ],
   "source": [
    "mystring[-2]\n",
    "# we can use reverse indexing to get the letter L"
   ]
  },
  {
   "cell_type": "code",
   "execution_count": 30,
   "id": "6062ef8c",
   "metadata": {},
   "outputs": [
    {
     "data": {
      "text/plain": [
       "'hello world'"
      ]
     },
     "execution_count": 30,
     "metadata": {},
     "output_type": "execute_result"
    }
   ],
   "source": [
    "mystring"
   ]
  },
  {
   "cell_type": "code",
   "execution_count": 42,
   "id": "4a77b8fb",
   "metadata": {},
   "outputs": [],
   "source": [
    "mystring=\"abcdefghijklmnopqrstuvwxyz\""
   ]
  },
  {
   "cell_type": "code",
   "execution_count": 33,
   "id": "0f2ff216",
   "metadata": {},
   "outputs": [
    {
     "data": {
      "text/plain": [
       "'abcdefghijklmnopqrstuvwxyz'"
      ]
     },
     "execution_count": 33,
     "metadata": {},
     "output_type": "execute_result"
    }
   ],
   "source": [
    "mystring"
   ]
  },
  {
   "cell_type": "code",
   "execution_count": 34,
   "id": "a941b61c",
   "metadata": {},
   "outputs": [
    {
     "data": {
      "text/plain": [
       "'b'"
      ]
     },
     "execution_count": 34,
     "metadata": {},
     "output_type": "execute_result"
    }
   ],
   "source": [
    "mystring[1]\n",
    "# returns the 1st index term"
   ]
  },
  {
   "cell_type": "code",
   "execution_count": 35,
   "id": "e21b6d76",
   "metadata": {},
   "outputs": [
    {
     "data": {
      "text/plain": [
       "'bcdefghijklmnopqrstuvwxyz'"
      ]
     },
     "execution_count": 35,
     "metadata": {},
     "output_type": "execute_result"
    }
   ],
   "source": [
    "mystring[1:]\n",
    "#returns from the first index term to the last term"
   ]
  },
  {
   "cell_type": "code",
   "execution_count": 37,
   "id": "3f546a56",
   "metadata": {},
   "outputs": [
    {
     "data": {
      "text/plain": [
       "'a'"
      ]
     },
     "execution_count": 37,
     "metadata": {},
     "output_type": "execute_result"
    }
   ],
   "source": [
    "mystring[:1]\n",
    "#reterns from start of string up to the 1st index term"
   ]
  },
  {
   "cell_type": "markdown",
   "id": "040d29af",
   "metadata": {},
   "source": [
    "<b>Remember:</b> Stop in the index says goes up to but not include the index letter"
   ]
  },
  {
   "cell_type": "code",
   "execution_count": 38,
   "id": "e46d5c49",
   "metadata": {},
   "outputs": [
    {
     "data": {
      "text/plain": [
       "'def'"
      ]
     },
     "execution_count": 38,
     "metadata": {},
     "output_type": "execute_result"
    }
   ],
   "source": [
    "mystring[3:6]"
   ]
  },
  {
   "cell_type": "code",
   "execution_count": 40,
   "id": "942a48ba",
   "metadata": {},
   "outputs": [
    {
     "data": {
      "text/plain": [
       "'bc'"
      ]
     },
     "execution_count": 40,
     "metadata": {},
     "output_type": "execute_result"
    }
   ],
   "source": [
    "mystring[1:3]"
   ]
  },
  {
   "cell_type": "code",
   "execution_count": 41,
   "id": "b0c441d9",
   "metadata": {},
   "outputs": [
    {
     "data": {
      "text/plain": [
       "'ijklmnopqrstu'"
      ]
     },
     "execution_count": 41,
     "metadata": {},
     "output_type": "execute_result"
    }
   ],
   "source": [
    "mystring[8:21]"
   ]
  },
  {
   "cell_type": "code",
   "execution_count": 44,
   "id": "f07cf2e1",
   "metadata": {},
   "outputs": [
    {
     "data": {
      "text/plain": [
       "'acegikmoqsuwy'"
      ]
     },
     "execution_count": 44,
     "metadata": {},
     "output_type": "execute_result"
    }
   ],
   "source": [
    "mystring[::2]\n",
    "# go from begining to end with a step size of 2"
   ]
  },
  {
   "cell_type": "code",
   "execution_count": 45,
   "id": "bad01b33",
   "metadata": {},
   "outputs": [
    {
     "data": {
      "text/plain": [
       "'adgjmpsvy'"
      ]
     },
     "execution_count": 45,
     "metadata": {},
     "output_type": "execute_result"
    }
   ],
   "source": [
    "mystring[::3]"
   ]
  },
  {
   "cell_type": "code",
   "execution_count": 46,
   "id": "206158f3",
   "metadata": {},
   "outputs": [
    {
     "data": {
      "text/plain": [
       "'ceg'"
      ]
     },
     "execution_count": 46,
     "metadata": {},
     "output_type": "execute_result"
    }
   ],
   "source": [
    "mystring[2:7:2]"
   ]
  },
  {
   "cell_type": "code",
   "execution_count": 49,
   "id": "8a28b0dc",
   "metadata": {},
   "outputs": [
    {
     "data": {
      "text/plain": [
       "'zyxwvutsrqponmlkjihgfedcba'"
      ]
     },
     "execution_count": 49,
     "metadata": {},
     "output_type": "execute_result"
    }
   ],
   "source": [
    "mystring[::-1]\n",
    "# reverses string because it says from begining to end but with a step size of back one so it goes from the last to first"
   ]
  },
  {
   "cell_type": "markdown",
   "id": "fcc6d5c8",
   "metadata": {},
   "source": [
    "<em><b> ^^^ Cool trick </b></em>"
   ]
  },
  {
   "cell_type": "markdown",
   "id": "e57c8db9",
   "metadata": {},
   "source": [
    "## String Properties and Methods"
   ]
  },
  {
   "cell_type": "markdown",
   "id": "6fb296fb",
   "metadata": {},
   "source": [
    "### Immutability"
   ]
  },
  {
   "cell_type": "code",
   "execution_count": 50,
   "id": "5f243061",
   "metadata": {},
   "outputs": [],
   "source": [
    "name=\"sam\""
   ]
  },
  {
   "cell_type": "code",
   "execution_count": 51,
   "id": "8b1b16b8",
   "metadata": {},
   "outputs": [
    {
     "ename": "TypeError",
     "evalue": "'str' object does not support item assignment",
     "output_type": "error",
     "traceback": [
      "\u001b[1;31m---------------------------------------------------------------------------\u001b[0m",
      "\u001b[1;31mTypeError\u001b[0m                                 Traceback (most recent call last)",
      "\u001b[1;32m~\\AppData\\Local\\Temp/ipykernel_6892/3927213061.py\u001b[0m in \u001b[0;36m<module>\u001b[1;34m\u001b[0m\n\u001b[1;32m----> 1\u001b[1;33m \u001b[0mname\u001b[0m\u001b[1;33m[\u001b[0m\u001b[1;36m0\u001b[0m\u001b[1;33m]\u001b[0m\u001b[1;33m=\u001b[0m\u001b[1;34m'p'\u001b[0m\u001b[1;33m\u001b[0m\u001b[1;33m\u001b[0m\u001b[0m\n\u001b[0m",
      "\u001b[1;31mTypeError\u001b[0m: 'str' object does not support item assignment"
     ]
    }
   ],
   "source": [
    "name[0]='p'\n",
    "# Cannot try and change a part of a string for a different part as shown above or item assignment"
   ]
  },
  {
   "cell_type": "code",
   "execution_count": 52,
   "id": "101b946d",
   "metadata": {},
   "outputs": [
    {
     "data": {
      "text/plain": [
       "'am'"
      ]
     },
     "execution_count": 52,
     "metadata": {},
     "output_type": "execute_result"
    }
   ],
   "source": [
    "name[1:]"
   ]
  },
  {
   "cell_type": "code",
   "execution_count": 53,
   "id": "a5211f67",
   "metadata": {},
   "outputs": [],
   "source": [
    "last_letters = name[1:]"
   ]
  },
  {
   "cell_type": "code",
   "execution_count": 54,
   "id": "3f9a69ae",
   "metadata": {},
   "outputs": [
    {
     "data": {
      "text/plain": [
       "'am'"
      ]
     },
     "execution_count": 54,
     "metadata": {},
     "output_type": "execute_result"
    }
   ],
   "source": [
    "last_letters"
   ]
  },
  {
   "cell_type": "code",
   "execution_count": 55,
   "id": "cf17cc3d",
   "metadata": {},
   "outputs": [
    {
     "data": {
      "text/plain": [
       "'Pam'"
      ]
     },
     "execution_count": 55,
     "metadata": {},
     "output_type": "execute_result"
    }
   ],
   "source": [
    "'P' + last_letters"
   ]
  },
  {
   "cell_type": "markdown",
   "id": "01ad99d9",
   "metadata": {},
   "source": [
    "^^ Known as <em> String Concatentation </em>"
   ]
  },
  {
   "cell_type": "code",
   "execution_count": 62,
   "id": "886b94dd",
   "metadata": {},
   "outputs": [],
   "source": [
    "x = \"hello world\""
   ]
  },
  {
   "cell_type": "code",
   "execution_count": 63,
   "id": "863aaae1",
   "metadata": {},
   "outputs": [
    {
     "data": {
      "text/plain": [
       "'hello world'"
      ]
     },
     "execution_count": 63,
     "metadata": {},
     "output_type": "execute_result"
    }
   ],
   "source": [
    "x"
   ]
  },
  {
   "cell_type": "code",
   "execution_count": 64,
   "id": "598e231e",
   "metadata": {},
   "outputs": [
    {
     "data": {
      "text/plain": [
       "'hello worldit is beautiful outside'"
      ]
     },
     "execution_count": 64,
     "metadata": {},
     "output_type": "execute_result"
    }
   ],
   "source": [
    "x+ 'it is beautiful outside'"
   ]
  },
  {
   "cell_type": "code",
   "execution_count": 65,
   "id": "a71ff8ae",
   "metadata": {},
   "outputs": [
    {
     "data": {
      "text/plain": [
       "'hello world. it is beautiful outside'"
      ]
     },
     "execution_count": 65,
     "metadata": {},
     "output_type": "execute_result"
    }
   ],
   "source": [
    "x+'. it is beautiful outside'"
   ]
  },
  {
   "cell_type": "code",
   "execution_count": 72,
   "id": "77a53e02",
   "metadata": {},
   "outputs": [],
   "source": [
    "x = x +'. it is beautiful outside'"
   ]
  },
  {
   "cell_type": "code",
   "execution_count": 69,
   "id": "6e3b8e13",
   "metadata": {},
   "outputs": [],
   "source": [
    "x = x +'. it is beautiful outside'"
   ]
  },
  {
   "cell_type": "code",
   "execution_count": 74,
   "id": "1d6006ff",
   "metadata": {},
   "outputs": [
    {
     "data": {
      "text/plain": [
       "'hello world. it is beautiful outside. it is beautiful outside. it is beautiful outside'"
      ]
     },
     "execution_count": 74,
     "metadata": {},
     "output_type": "execute_result"
    }
   ],
   "source": [
    "x"
   ]
  },
  {
   "cell_type": "code",
   "execution_count": 75,
   "id": "93718079",
   "metadata": {},
   "outputs": [],
   "source": [
    "letter = 'z'"
   ]
  },
  {
   "cell_type": "code",
   "execution_count": 77,
   "id": "68b60f90",
   "metadata": {},
   "outputs": [
    {
     "data": {
      "text/plain": [
       "'zzzzzzzzzz'"
      ]
     },
     "execution_count": 77,
     "metadata": {},
     "output_type": "execute_result"
    }
   ],
   "source": [
    "letter*10\n",
    "# uses multiplication with strings"
   ]
  },
  {
   "cell_type": "markdown",
   "id": "f0cdcd56",
   "metadata": {},
   "source": [
    "<b> You will get errors if you try to concatentate a number with a string </b>"
   ]
  },
  {
   "cell_type": "code",
   "execution_count": 79,
   "id": "24ac02ff",
   "metadata": {},
   "outputs": [
    {
     "data": {
      "text/plain": [
       "5"
      ]
     },
     "execution_count": 79,
     "metadata": {},
     "output_type": "execute_result"
    }
   ],
   "source": [
    "2 + 3"
   ]
  },
  {
   "cell_type": "code",
   "execution_count": 81,
   "id": "209a10f7",
   "metadata": {},
   "outputs": [
    {
     "data": {
      "text/plain": [
       "'23'"
      ]
     },
     "execution_count": 81,
     "metadata": {},
     "output_type": "execute_result"
    }
   ],
   "source": [
    "\"2\" +\"3\"\n",
    "# performs concatenation not addition because they have been put as strings"
   ]
  },
  {
   "cell_type": "code",
   "execution_count": 82,
   "id": "54e11032",
   "metadata": {},
   "outputs": [],
   "source": [
    "x = 'hello world'"
   ]
  },
  {
   "cell_type": "code",
   "execution_count": 83,
   "id": "dd92b19b",
   "metadata": {},
   "outputs": [
    {
     "data": {
      "text/plain": [
       "'hello world'"
      ]
     },
     "execution_count": 83,
     "metadata": {},
     "output_type": "execute_result"
    }
   ],
   "source": [
    "x"
   ]
  },
  {
   "cell_type": "code",
   "execution_count": 86,
   "id": "c315ec44",
   "metadata": {},
   "outputs": [
    {
     "data": {
      "text/plain": [
       "'HELLO WORLD'"
      ]
     },
     "execution_count": 86,
     "metadata": {},
     "output_type": "execute_result"
    }
   ],
   "source": [
    "x.upper()\n",
    "#if I do (variable that has already been defined).[tab on keyboard] it will show different attributes and methods available on the string object\n",
    "\n",
    "# upper method makes the string upper case\n",
    "# Remember to have the parentheses"
   ]
  },
  {
   "cell_type": "code",
   "execution_count": 87,
   "id": "8821e0a2",
   "metadata": {},
   "outputs": [
    {
     "data": {
      "text/plain": [
       "'hello world'"
      ]
     },
     "execution_count": 87,
     "metadata": {},
     "output_type": "execute_result"
    }
   ],
   "source": [
    "x.lower()"
   ]
  },
  {
   "cell_type": "code",
   "execution_count": 91,
   "id": "776c5d60",
   "metadata": {},
   "outputs": [
    {
     "data": {
      "text/plain": [
       "['hello', 'world']"
      ]
     },
     "execution_count": 91,
     "metadata": {},
     "output_type": "execute_result"
    }
   ],
   "source": [
    "x.split()\n",
    "# split string based on white space or letter passed in"
   ]
  },
  {
   "cell_type": "code",
   "execution_count": 94,
   "id": "db382696",
   "metadata": {},
   "outputs": [
    {
     "data": {
      "text/plain": [
       "['h', 'llo world']"
      ]
     },
     "execution_count": 94,
     "metadata": {},
     "output_type": "execute_result"
    }
   ],
   "source": [
    "x.split(\"e\")\n",
    "# make sure not to forget the \"\""
   ]
  },
  {
   "cell_type": "code",
   "execution_count": 93,
   "id": "d40c1fee",
   "metadata": {},
   "outputs": [
    {
     "data": {
      "text/plain": [
       "['hell', ' w', 'rld']"
      ]
     },
     "execution_count": 93,
     "metadata": {},
     "output_type": "execute_result"
    }
   ],
   "source": [
    "x.split(\"o\")"
   ]
  },
  {
   "cell_type": "markdown",
   "id": "1517f5ec",
   "metadata": {},
   "source": [
    "## Print Formatting with Strings"
   ]
  },
  {
   "cell_type": "markdown",
   "id": "225e7958",
   "metadata": {},
   "source": [
    "You can use strings inside the print function. \n",
    "\n",
    "Ex: I want to say Hello, \"the persons name\"\n",
    "\n",
    "I can assign a variable:\n",
    "\n",
    "persons_name = \"the persons name\"\n",
    "\n",
    "Then I can print the phrase through string concatenation:\n",
    "\n",
    "print(\"Hello, \" + persons_name)"
   ]
  },
  {
   "cell_type": "markdown",
   "id": "b1d936d2",
   "metadata": {},
   "source": [
    "String Interpolation: sticking a variable in a string"
   ]
  },
  {
   "cell_type": "markdown",
   "id": "6cf012ed",
   "metadata": {},
   "source": [
    "2 methods:\n",
    "* .format() method\n",
    "* f-strings (formatted string litterals)"
   ]
  },
  {
   "cell_type": "markdown",
   "id": "e7f3863c",
   "metadata": {},
   "source": [
    "##### .Format() method"
   ]
  },
  {
   "cell_type": "markdown",
   "id": "1dc9e599",
   "metadata": {},
   "source": [
    "Syntax:\n",
    "    \n",
    "'String here {} then also {}'.format('something1','something2')"
   ]
  },
  {
   "cell_type": "code",
   "execution_count": 98,
   "id": "6ce535c7",
   "metadata": {},
   "outputs": [
    {
     "name": "stdout",
     "output_type": "stream",
     "text": [
      "This is a string INSERTED\n"
     ]
    }
   ],
   "source": [
    "print('This is a string {}'.format('INSERTED'))"
   ]
  },
  {
   "cell_type": "code",
   "execution_count": 99,
   "id": "132dd015",
   "metadata": {},
   "outputs": [
    {
     "name": "stdout",
     "output_type": "stream",
     "text": [
      "The fox brown quick\n"
     ]
    }
   ],
   "source": [
    "print('The {} {} {}'.format('fox','brown','quick'))"
   ]
  },
  {
   "cell_type": "code",
   "execution_count": 101,
   "id": "bbe354eb",
   "metadata": {},
   "outputs": [
    {
     "name": "stdout",
     "output_type": "stream",
     "text": [
      "The quick brown fox\n"
     ]
    }
   ],
   "source": [
    "print('The {2} {1} {0}'.format('fox','brown','quick'))\n",
    "# We can use indexing int eh curly braces, which lets Python know the order we want the values inside the format parentheses"
   ]
  },
  {
   "cell_type": "code",
   "execution_count": 102,
   "id": "e5e53581",
   "metadata": {},
   "outputs": [
    {
     "name": "stdout",
     "output_type": "stream",
     "text": [
      "The fox fox fox\n"
     ]
    }
   ],
   "source": [
    "print('The {0} {0} {0}'.format('fox','brown','quick'))"
   ]
  },
  {
   "cell_type": "code",
   "execution_count": 104,
   "id": "3e3f9650",
   "metadata": {},
   "outputs": [
    {
     "name": "stdout",
     "output_type": "stream",
     "text": [
      "The quick brown fox\n"
     ]
    }
   ],
   "source": [
    "print('The {q} {b} {f}'.format(f='fox',b='brown',q='quick'))\n",
    "# instead of indexing you can assign the values a variable to go off of. "
   ]
  },
  {
   "cell_type": "markdown",
   "id": "e30da3a1",
   "metadata": {},
   "source": [
    "###### Float Formatting follows \"{value:width.precision f}\""
   ]
  },
  {
   "cell_type": "markdown",
   "id": "dfd2ba04",
   "metadata": {},
   "source": [
    "width: how much whitespace between values\n",
    "\n",
    "precision: to what decimal place do you want the float value"
   ]
  },
  {
   "cell_type": "code",
   "execution_count": 105,
   "id": "71e0db96",
   "metadata": {},
   "outputs": [],
   "source": [
    "result=100/77"
   ]
  },
  {
   "cell_type": "code",
   "execution_count": 106,
   "id": "ee034801",
   "metadata": {},
   "outputs": [
    {
     "data": {
      "text/plain": [
       "1.2987012987012987"
      ]
     },
     "execution_count": 106,
     "metadata": {},
     "output_type": "execute_result"
    }
   ],
   "source": [
    "result"
   ]
  },
  {
   "cell_type": "code",
   "execution_count": 107,
   "id": "75d0c326",
   "metadata": {},
   "outputs": [
    {
     "name": "stdout",
     "output_type": "stream",
     "text": [
      "The result was 1.2987012987012987\n"
     ]
    }
   ],
   "source": [
    "print(\"The result was {}\".format(result))"
   ]
  },
  {
   "cell_type": "code",
   "execution_count": 108,
   "id": "f2bd2813",
   "metadata": {},
   "outputs": [
    {
     "name": "stdout",
     "output_type": "stream",
     "text": [
      "The result was 1.2987012987012987\n"
     ]
    }
   ],
   "source": [
    "print(\"The result was {r}\".format(r=result))"
   ]
  },
  {
   "cell_type": "code",
   "execution_count": 109,
   "id": "5584a23f",
   "metadata": {},
   "outputs": [
    {
     "name": "stdout",
     "output_type": "stream",
     "text": [
      "The result was 1.299\n"
     ]
    }
   ],
   "source": [
    "print(\"The result was {r:1.3f}\".format(r=result))"
   ]
  },
  {
   "cell_type": "code",
   "execution_count": 110,
   "id": "5dd1c1b4",
   "metadata": {},
   "outputs": [
    {
     "name": "stdout",
     "output_type": "stream",
     "text": [
      "The result was 1.30\n"
     ]
    }
   ],
   "source": [
    "print(\"The result was {r:1.2f}\".format(r=result))"
   ]
  },
  {
   "cell_type": "code",
   "execution_count": 111,
   "id": "3d08de13",
   "metadata": {},
   "outputs": [],
   "source": [
    "result=104.2345"
   ]
  },
  {
   "cell_type": "code",
   "execution_count": 112,
   "id": "57ca436c",
   "metadata": {},
   "outputs": [
    {
     "data": {
      "text/plain": [
       "104.2345"
      ]
     },
     "execution_count": 112,
     "metadata": {},
     "output_type": "execute_result"
    }
   ],
   "source": [
    "result"
   ]
  },
  {
   "cell_type": "code",
   "execution_count": 113,
   "id": "df411b6f",
   "metadata": {},
   "outputs": [
    {
     "name": "stdout",
     "output_type": "stream",
     "text": [
      "The result was 104.23\n"
     ]
    }
   ],
   "source": [
    "print(\"The result was {r:1.2f}\".format(r=result))"
   ]
  },
  {
   "cell_type": "markdown",
   "id": "a485b0dc",
   "metadata": {},
   "source": [
    "##### F strings (formatted string literals)"
   ]
  },
  {
   "cell_type": "code",
   "execution_count": 114,
   "id": "c69407e0",
   "metadata": {},
   "outputs": [],
   "source": [
    "name = \"Jose\""
   ]
  },
  {
   "cell_type": "code",
   "execution_count": 115,
   "id": "b5d9cdb7",
   "metadata": {},
   "outputs": [
    {
     "name": "stdout",
     "output_type": "stream",
     "text": [
      "Hello, his name is Jose\n"
     ]
    }
   ],
   "source": [
    "print(\"Hello, his name is {}\".format(name))\n",
    "# This is the previous method, or dot format"
   ]
  },
  {
   "cell_type": "code",
   "execution_count": 118,
   "id": "11eee947",
   "metadata": {},
   "outputs": [
    {
     "name": "stdout",
     "output_type": "stream",
     "text": [
      "Hello, his name is Jose\n"
     ]
    }
   ],
   "source": [
    "print(f\"Hello, his name is {name}\")\n",
    "# place the f before the quotes. \n",
    "# place the variable desired in the quotes"
   ]
  },
  {
   "cell_type": "code",
   "execution_count": 119,
   "id": "f49d642b",
   "metadata": {},
   "outputs": [],
   "source": [
    "name = \"Sam\"\n",
    "age = 3"
   ]
  },
  {
   "cell_type": "code",
   "execution_count": 120,
   "id": "1b525683",
   "metadata": {},
   "outputs": [
    {
     "name": "stdout",
     "output_type": "stream",
     "text": [
      "Sam is 3 years old\n"
     ]
    }
   ],
   "source": [
    "print(f\"{name} is {age} years old\")"
   ]
  },
  {
   "cell_type": "code",
   "execution_count": null,
   "id": "4c5c8fa7",
   "metadata": {},
   "outputs": [],
   "source": []
  }
 ],
 "metadata": {
  "kernelspec": {
   "display_name": "Python 3 (ipykernel)",
   "language": "python",
   "name": "python3"
  },
  "language_info": {
   "codemirror_mode": {
    "name": "ipython",
    "version": 3
   },
   "file_extension": ".py",
   "mimetype": "text/x-python",
   "name": "python",
   "nbconvert_exporter": "python",
   "pygments_lexer": "ipython3",
   "version": "3.9.7"
  }
 },
 "nbformat": 4,
 "nbformat_minor": 5
}
