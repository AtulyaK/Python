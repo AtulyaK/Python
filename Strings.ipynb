{
 "cells": [
  {
   "cell_type": "markdown",
   "id": "a646b735",
   "metadata": {},
   "source": [
    "# Strings"
   ]
  },
  {
   "cell_type": "markdown",
   "id": "4e34f4a9",
   "metadata": {},
   "source": [
    "## Definition"
   ]
  },
  {
   "cell_type": "markdown",
   "id": "5649cd6b",
   "metadata": {},
   "source": [
    "Strings are sequences of characters, using the syntax of either single quotes or double quotes:\n",
    "1. \"Hello\"\n",
    "2. 'Hello'\n",
    "3. \"I am here.\""
   ]
  },
  {
   "cell_type": "markdown",
   "id": "a5162c02",
   "metadata": {},
   "source": [
    "Note: The importance of Double quotes is wanting to keep single quotes in the string without interference"
   ]
  },
  {
   "cell_type": "markdown",
   "id": "5797fcd7",
   "metadata": {},
   "source": [
    "## Indexing"
   ]
  },
  {
   "cell_type": "markdown",
   "id": "ed7c256e",
   "metadata": {},
   "source": [
    "Strings are ordered sequences, and therefore each item in the sequence has an index. We can use the indexing to grab sub-sections of the string"
   ]
  },
  {
   "cell_type": "markdown",
   "id": "e51fc296",
   "metadata": {},
   "source": [
    "<b> The indexing notation is square brackets or [] </b>"
   ]
  },
  {
   "cell_type": "markdown",
   "id": "6a2cd268",
   "metadata": {},
   "source": [
    "Every character has an index."
   ]
  },
  {
   "cell_type": "markdown",
   "id": "e883a93c",
   "metadata": {},
   "source": [
    "|  |  |   |  | | | |\n",
    "|:-|:-:|-:|-:|-:|-:|-:|\n",
    "|Characters| a| b| c| d| e| f|\n",
    "|Index Value|  0| 1| 2| 3| 4| 5|\n",
    "|Reverse Index| 0|-5|-4|-3|-2|-1|\n",
    "\n",
    "<b> Index Values begin at 0. </b>"
   ]
  },
  {
   "cell_type": "markdown",
   "id": "513a5b4a",
   "metadata": {},
   "source": [
    "Slicing allows you to get a slice of the string"
   ]
  },
  {
   "cell_type": "markdown",
   "id": "e31da4cd",
   "metadata": {},
   "source": [
    " <em><b>Syntax:\n",
    "    [start:stop:step]</b>\n",
    "</em>\n",
    "\n",
    "Start: a numerical index for start of slice\n",
    "\n",
    "Stop: index you go up to but not include\n",
    "\n",
    "Step: size of \"jump\" taken"
   ]
  },
  {
   "cell_type": "markdown",
   "id": "3b70892c",
   "metadata": {},
   "source": [
    "## General Strings Practice"
   ]
  },
  {
   "cell_type": "code",
   "execution_count": 6,
   "id": "06675e9c",
   "metadata": {},
   "outputs": [
    {
     "data": {
      "text/plain": [
       "'hello'"
      ]
     },
     "execution_count": 6,
     "metadata": {},
     "output_type": "execute_result"
    }
   ],
   "source": [
    "'hello'"
   ]
  },
  {
   "cell_type": "code",
   "execution_count": 7,
   "id": "04c88c39",
   "metadata": {},
   "outputs": [
    {
     "data": {
      "text/plain": [
       "'Hello'"
      ]
     },
     "execution_count": 7,
     "metadata": {},
     "output_type": "execute_result"
    }
   ],
   "source": [
    "\"Hello\""
   ]
  },
  {
   "cell_type": "code",
   "execution_count": 8,
   "id": "fba11e1b",
   "metadata": {},
   "outputs": [
    {
     "data": {
      "text/plain": [
       "'this is also an example of a string'"
      ]
     },
     "execution_count": 8,
     "metadata": {},
     "output_type": "execute_result"
    }
   ],
   "source": [
    "'this is also an example of a string'"
   ]
  },
  {
   "cell_type": "code",
   "execution_count": 9,
   "id": "d49f2777",
   "metadata": {},
   "outputs": [
    {
     "ename": "SyntaxError",
     "evalue": "invalid syntax (Temp/ipykernel_6892/1163665345.py, line 1)",
     "output_type": "error",
     "traceback": [
      "\u001b[1;36m  File \u001b[1;32m\"C:\\Users\\Lucario\\AppData\\Local\\Temp/ipykernel_6892/1163665345.py\"\u001b[1;36m, line \u001b[1;32m1\u001b[0m\n\u001b[1;33m    ' I'm going on a run '\u001b[0m\n\u001b[1;37m        ^\u001b[0m\n\u001b[1;31mSyntaxError\u001b[0m\u001b[1;31m:\u001b[0m invalid syntax\n"
     ]
    }
   ],
   "source": [
    "' I'm going on a run '"
   ]
  },
  {
   "cell_type": "markdown",
   "id": "bfdc8dc5",
   "metadata": {},
   "source": [
    "The problem with using single quotes in instances like this is because Python believes the string ends with the single quote used as a contraction. Python does not know this though. So in an instance like this use Double quotes."
   ]
  },
  {
   "cell_type": "code",
   "execution_count": 10,
   "id": "5600ab09",
   "metadata": {},
   "outputs": [
    {
     "data": {
      "text/plain": [
       "\"I'm going on a run\""
      ]
     },
     "execution_count": 10,
     "metadata": {},
     "output_type": "execute_result"
    }
   ],
   "source": [
    "\"I'm going on a run\""
   ]
  },
  {
   "cell_type": "code",
   "execution_count": 11,
   "id": "788ad12b",
   "metadata": {},
   "outputs": [
    {
     "name": "stdout",
     "output_type": "stream",
     "text": [
      "Hello\n"
     ]
    }
   ],
   "source": [
    "print(\"Hello\")"
   ]
  },
  {
   "cell_type": "markdown",
   "id": "9b6c3926",
   "metadata": {},
   "source": [
    "Before, the environment just outputed the information provided in the string making the single and double quotes appear. With the print function, we can print the string so that the quotes do not appear"
   ]
  },
  {
   "cell_type": "code",
   "execution_count": 12,
   "id": "6f8906a7",
   "metadata": {},
   "outputs": [
    {
     "data": {
      "text/plain": [
       "'Hello world two'"
      ]
     },
     "execution_count": 12,
     "metadata": {},
     "output_type": "execute_result"
    }
   ],
   "source": [
    "\"Hello world one\"\n",
    "\"Hello world two\""
   ]
  },
  {
   "cell_type": "markdown",
   "id": "b509afa1",
   "metadata": {},
   "source": [
    "As demonstrated above,the second string is only produced. "
   ]
  },
  {
   "cell_type": "code",
   "execution_count": 15,
   "id": "b3b49e69",
   "metadata": {},
   "outputs": [
    {
     "name": "stdout",
     "output_type": "stream",
     "text": [
      "Hello world oneHello world two\n",
      "Hello world one\n",
      "Hello world two\n"
     ]
    }
   ],
   "source": [
    "# If you use the print function, both strings are produced.\n",
    "print(\"Hello world one\"\n",
    "\"Hello world two\" )\n",
    "# or \n",
    "print(\"Hello world one\")\n",
    "print(\"Hello world two\")"
   ]
  },
  {
   "cell_type": "code",
   "execution_count": 17,
   "id": "05f8c026",
   "metadata": {},
   "outputs": [
    {
     "name": "stdout",
     "output_type": "stream",
     "text": [
      "hello \n",
      " world\n",
      "hello\t world\n"
     ]
    }
   ],
   "source": [
    "print('hello \\n world')\n",
    "# \\n creates a new line in a string\n",
    "print(\"hello\\t world\")\n",
    "#\\t tabs the rest of the string"
   ]
  },
  {
   "cell_type": "code",
   "execution_count": 18,
   "id": "4a9203be",
   "metadata": {},
   "outputs": [
    {
     "data": {
      "text/plain": [
       "5"
      ]
     },
     "execution_count": 18,
     "metadata": {},
     "output_type": "execute_result"
    }
   ],
   "source": [
    "# the len function reports back the length of the string. \n",
    "len(\"hello\")"
   ]
  },
  {
   "cell_type": "code",
   "execution_count": 21,
   "id": "3b468151",
   "metadata": {},
   "outputs": [
    {
     "data": {
      "text/plain": [
       "5"
      ]
     },
     "execution_count": 21,
     "metadata": {},
     "output_type": "execute_result"
    }
   ],
   "source": [
    "len(\" I am\")\n",
    "# spaces are included in regards to the length function"
   ]
  },
  {
   "cell_type": "markdown",
   "id": "fda11b89",
   "metadata": {},
   "source": [
    "## Indexing and Slicing Strings Practice"
   ]
  },
  {
   "cell_type": "code",
   "execution_count": 22,
   "id": "0c505faf",
   "metadata": {},
   "outputs": [],
   "source": [
    "mystring=\"hello world\""
   ]
  },
  {
   "cell_type": "code",
   "execution_count": 23,
   "id": "1916b63e",
   "metadata": {},
   "outputs": [
    {
     "data": {
      "text/plain": [
       "'hello world'"
      ]
     },
     "execution_count": 23,
     "metadata": {},
     "output_type": "execute_result"
    }
   ],
   "source": [
    "mystring"
   ]
  },
  {
   "cell_type": "code",
   "execution_count": 26,
   "id": "188b314b",
   "metadata": {},
   "outputs": [
    {
     "data": {
      "text/plain": [
       "'h'"
      ]
     },
     "execution_count": 26,
     "metadata": {},
     "output_type": "execute_result"
    }
   ],
   "source": [
    "mystring[0]\n",
    "# doing this allows the output of a the first character"
   ]
  },
  {
   "cell_type": "code",
   "execution_count": 25,
   "id": "4eb411d7",
   "metadata": {},
   "outputs": [
    {
     "data": {
      "text/plain": [
       "'r'"
      ]
     },
     "execution_count": 25,
     "metadata": {},
     "output_type": "execute_result"
    }
   ],
   "source": [
    "mystring[8]\n",
    "# Trying to get the output of r, we choose 8 because it is the 8th character in the string"
   ]
  },
  {
   "cell_type": "code",
   "execution_count": 29,
   "id": "e2be53ce",
   "metadata": {},
   "outputs": [
    {
     "data": {
      "text/plain": [
       "'l'"
      ]
     },
     "execution_count": 29,
     "metadata": {},
     "output_type": "execute_result"
    }
   ],
   "source": [
    "mystring[-2]\n",
    "# we can use reverse indexing to get the letter L"
   ]
  },
  {
   "cell_type": "code",
   "execution_count": 30,
   "id": "4eb1af8a",
   "metadata": {},
   "outputs": [
    {
     "data": {
      "text/plain": [
       "'hello world'"
      ]
     },
     "execution_count": 30,
     "metadata": {},
     "output_type": "execute_result"
    }
   ],
   "source": [
    "mystring"
   ]
  },
  {
   "cell_type": "code",
   "execution_count": 42,
   "id": "23e3e756",
   "metadata": {},
   "outputs": [],
   "source": [
    "mystring=\"abcdefghijklmnopqrstuvwxyz\""
   ]
  },
  {
   "cell_type": "code",
   "execution_count": 33,
   "id": "26d56145",
   "metadata": {},
   "outputs": [
    {
     "data": {
      "text/plain": [
       "'abcdefghijklmnopqrstuvwxyz'"
      ]
     },
     "execution_count": 33,
     "metadata": {},
     "output_type": "execute_result"
    }
   ],
   "source": [
    "mystring"
   ]
  },
  {
   "cell_type": "code",
   "execution_count": 34,
   "id": "941cb8c0",
   "metadata": {},
   "outputs": [
    {
     "data": {
      "text/plain": [
       "'b'"
      ]
     },
     "execution_count": 34,
     "metadata": {},
     "output_type": "execute_result"
    }
   ],
   "source": [
    "mystring[1]\n",
    "# returns the 1st index term"
   ]
  },
  {
   "cell_type": "code",
   "execution_count": 35,
   "id": "2e8c1b63",
   "metadata": {},
   "outputs": [
    {
     "data": {
      "text/plain": [
       "'bcdefghijklmnopqrstuvwxyz'"
      ]
     },
     "execution_count": 35,
     "metadata": {},
     "output_type": "execute_result"
    }
   ],
   "source": [
    "mystring[1:]\n",
    "#returns from the first index term to the last term"
   ]
  },
  {
   "cell_type": "code",
   "execution_count": 37,
   "id": "adf2357b",
   "metadata": {},
   "outputs": [
    {
     "data": {
      "text/plain": [
       "'a'"
      ]
     },
     "execution_count": 37,
     "metadata": {},
     "output_type": "execute_result"
    }
   ],
   "source": [
    "mystring[:1]\n",
    "#reterns from start of string up to the 1st index term"
   ]
  },
  {
   "cell_type": "markdown",
   "id": "ff5d79d4",
   "metadata": {},
   "source": [
    "<b>Remember:</b> Stop in the index says goes up to but not include the index letter"
   ]
  },
  {
   "cell_type": "code",
   "execution_count": 38,
   "id": "c067e7e5",
   "metadata": {},
   "outputs": [
    {
     "data": {
      "text/plain": [
       "'def'"
      ]
     },
     "execution_count": 38,
     "metadata": {},
     "output_type": "execute_result"
    }
   ],
   "source": [
    "mystring[3:6]"
   ]
  },
  {
   "cell_type": "code",
   "execution_count": 40,
   "id": "6146d09b",
   "metadata": {},
   "outputs": [
    {
     "data": {
      "text/plain": [
       "'bc'"
      ]
     },
     "execution_count": 40,
     "metadata": {},
     "output_type": "execute_result"
    }
   ],
   "source": [
    "mystring[1:3]"
   ]
  },
  {
   "cell_type": "code",
   "execution_count": 41,
   "id": "eecc6ef3",
   "metadata": {},
   "outputs": [
    {
     "data": {
      "text/plain": [
       "'ijklmnopqrstu'"
      ]
     },
     "execution_count": 41,
     "metadata": {},
     "output_type": "execute_result"
    }
   ],
   "source": [
    "mystring[8:21]"
   ]
  },
  {
   "cell_type": "code",
   "execution_count": 44,
   "id": "a43bf9cb",
   "metadata": {},
   "outputs": [
    {
     "data": {
      "text/plain": [
       "'acegikmoqsuwy'"
      ]
     },
     "execution_count": 44,
     "metadata": {},
     "output_type": "execute_result"
    }
   ],
   "source": [
    "mystring[::2]\n",
    "# go from begining to end with a step size of 2"
   ]
  },
  {
   "cell_type": "code",
   "execution_count": 45,
   "id": "04963e8f",
   "metadata": {},
   "outputs": [
    {
     "data": {
      "text/plain": [
       "'adgjmpsvy'"
      ]
     },
     "execution_count": 45,
     "metadata": {},
     "output_type": "execute_result"
    }
   ],
   "source": [
    "mystring[::3]"
   ]
  },
  {
   "cell_type": "code",
   "execution_count": 46,
   "id": "f7f22610",
   "metadata": {},
   "outputs": [
    {
     "data": {
      "text/plain": [
       "'ceg'"
      ]
     },
     "execution_count": 46,
     "metadata": {},
     "output_type": "execute_result"
    }
   ],
   "source": [
    "mystring[2:7:2]"
   ]
  },
  {
   "cell_type": "code",
   "execution_count": 49,
   "id": "2ef4b3e9",
   "metadata": {},
   "outputs": [
    {
     "data": {
      "text/plain": [
       "'zyxwvutsrqponmlkjihgfedcba'"
      ]
     },
     "execution_count": 49,
     "metadata": {},
     "output_type": "execute_result"
    }
   ],
   "source": [
    "mystring[::-1]\n",
    "# reverses string because it says from begining to end but with a step size of back one so it goes from the last to first"
   ]
  },
  {
   "cell_type": "markdown",
   "id": "dcee8eea",
   "metadata": {},
   "source": [
    "<em><b> ^^^ Cool trick </b></em>"
   ]
  },
  {
   "cell_type": "markdown",
   "id": "4c6e90e0",
   "metadata": {},
   "source": [
    "## String Properties and Methods"
   ]
  },
  {
   "cell_type": "markdown",
   "id": "81a58ab8",
   "metadata": {},
   "source": [
    "### Immutability"
   ]
  },
  {
   "cell_type": "code",
   "execution_count": 50,
   "id": "34b7add6",
   "metadata": {},
   "outputs": [],
   "source": [
    "name=\"sam\""
   ]
  },
  {
   "cell_type": "code",
   "execution_count": 51,
   "id": "d7b2fa57",
   "metadata": {},
   "outputs": [
    {
     "ename": "TypeError",
     "evalue": "'str' object does not support item assignment",
     "output_type": "error",
     "traceback": [
      "\u001b[1;31m---------------------------------------------------------------------------\u001b[0m",
      "\u001b[1;31mTypeError\u001b[0m                                 Traceback (most recent call last)",
      "\u001b[1;32m~\\AppData\\Local\\Temp/ipykernel_6892/3927213061.py\u001b[0m in \u001b[0;36m<module>\u001b[1;34m\u001b[0m\n\u001b[1;32m----> 1\u001b[1;33m \u001b[0mname\u001b[0m\u001b[1;33m[\u001b[0m\u001b[1;36m0\u001b[0m\u001b[1;33m]\u001b[0m\u001b[1;33m=\u001b[0m\u001b[1;34m'p'\u001b[0m\u001b[1;33m\u001b[0m\u001b[1;33m\u001b[0m\u001b[0m\n\u001b[0m",
      "\u001b[1;31mTypeError\u001b[0m: 'str' object does not support item assignment"
     ]
    }
   ],
   "source": [
    "name[0]='p'\n",
    "# Cannot try and change a part of a string for a different part as shown above or item assignment"
   ]
  },
  {
   "cell_type": "code",
   "execution_count": 52,
   "id": "e44b98bf",
   "metadata": {},
   "outputs": [
    {
     "data": {
      "text/plain": [
       "'am'"
      ]
     },
     "execution_count": 52,
     "metadata": {},
     "output_type": "execute_result"
    }
   ],
   "source": [
    "name[1:]"
   ]
  },
  {
   "cell_type": "code",
   "execution_count": 53,
   "id": "d00ad0f9",
   "metadata": {},
   "outputs": [],
   "source": [
    "last_letters = name[1:]"
   ]
  },
  {
   "cell_type": "code",
   "execution_count": 54,
   "id": "1c42491a",
   "metadata": {},
   "outputs": [
    {
     "data": {
      "text/plain": [
       "'am'"
      ]
     },
     "execution_count": 54,
     "metadata": {},
     "output_type": "execute_result"
    }
   ],
   "source": [
    "last_letters"
   ]
  },
  {
   "cell_type": "code",
   "execution_count": 55,
   "id": "de75abfc",
   "metadata": {},
   "outputs": [
    {
     "data": {
      "text/plain": [
       "'Pam'"
      ]
     },
     "execution_count": 55,
     "metadata": {},
     "output_type": "execute_result"
    }
   ],
   "source": [
    "'P' + last_letters"
   ]
  },
  {
   "cell_type": "markdown",
   "id": "822bd25c",
   "metadata": {},
   "source": [
    "^^ Known as <em> String Concatentation </em>"
   ]
  },
  {
   "cell_type": "code",
   "execution_count": 62,
   "id": "bdd6fb47",
   "metadata": {},
   "outputs": [],
   "source": [
    "x = \"hello world\""
   ]
  },
  {
   "cell_type": "code",
   "execution_count": 63,
   "id": "21283196",
   "metadata": {},
   "outputs": [
    {
     "data": {
      "text/plain": [
       "'hello world'"
      ]
     },
     "execution_count": 63,
     "metadata": {},
     "output_type": "execute_result"
    }
   ],
   "source": [
    "x"
   ]
  },
  {
   "cell_type": "code",
   "execution_count": 64,
   "id": "b54f0ab7",
   "metadata": {},
   "outputs": [
    {
     "data": {
      "text/plain": [
       "'hello worldit is beautiful outside'"
      ]
     },
     "execution_count": 64,
     "metadata": {},
     "output_type": "execute_result"
    }
   ],
   "source": [
    "x+ 'it is beautiful outside'"
   ]
  },
  {
   "cell_type": "code",
   "execution_count": 65,
   "id": "0dd076e6",
   "metadata": {},
   "outputs": [
    {
     "data": {
      "text/plain": [
       "'hello world. it is beautiful outside'"
      ]
     },
     "execution_count": 65,
     "metadata": {},
     "output_type": "execute_result"
    }
   ],
   "source": [
    "x+'. it is beautiful outside'"
   ]
  },
  {
   "cell_type": "code",
   "execution_count": 72,
   "id": "f10990a9",
   "metadata": {},
   "outputs": [],
   "source": [
    "x = x +'. it is beautiful outside'"
   ]
  },
  {
   "cell_type": "code",
   "execution_count": 69,
   "id": "2e36a86d",
   "metadata": {},
   "outputs": [],
   "source": [
    "x = x +'. it is beautiful outside'"
   ]
  },
  {
   "cell_type": "code",
   "execution_count": 74,
   "id": "339f437b",
   "metadata": {},
   "outputs": [
    {
     "data": {
      "text/plain": [
       "'hello world. it is beautiful outside. it is beautiful outside. it is beautiful outside'"
      ]
     },
     "execution_count": 74,
     "metadata": {},
     "output_type": "execute_result"
    }
   ],
   "source": [
    "x"
   ]
  },
  {
   "cell_type": "code",
   "execution_count": 75,
   "id": "1c094211",
   "metadata": {},
   "outputs": [],
   "source": [
    "letter = 'z'"
   ]
  },
  {
   "cell_type": "code",
   "execution_count": 77,
   "id": "fa97e170",
   "metadata": {},
   "outputs": [
    {
     "data": {
      "text/plain": [
       "'zzzzzzzzzz'"
      ]
     },
     "execution_count": 77,
     "metadata": {},
     "output_type": "execute_result"
    }
   ],
   "source": [
    "letter*10\n",
    "# uses multiplication with strings"
   ]
  },
  {
   "cell_type": "markdown",
   "id": "3991feaa",
   "metadata": {},
   "source": [
    "<b> You will get errors if you try to concatentate a number with a string </b>"
   ]
  },
  {
   "cell_type": "code",
   "execution_count": 79,
   "id": "83afa530",
   "metadata": {},
   "outputs": [
    {
     "data": {
      "text/plain": [
       "5"
      ]
     },
     "execution_count": 79,
     "metadata": {},
     "output_type": "execute_result"
    }
   ],
   "source": [
    "2 + 3"
   ]
  },
  {
   "cell_type": "code",
   "execution_count": 81,
   "id": "30db7c9e",
   "metadata": {},
   "outputs": [
    {
     "data": {
      "text/plain": [
       "'23'"
      ]
     },
     "execution_count": 81,
     "metadata": {},
     "output_type": "execute_result"
    }
   ],
   "source": [
    "\"2\" +\"3\"\n",
    "# performs concatenation not addition because they have been put as strings"
   ]
  },
  {
   "cell_type": "code",
   "execution_count": 82,
   "id": "3fa5889a",
   "metadata": {},
   "outputs": [],
   "source": [
    "x = 'hello world'"
   ]
  },
  {
   "cell_type": "code",
   "execution_count": 83,
   "id": "f6a4bac0",
   "metadata": {},
   "outputs": [
    {
     "data": {
      "text/plain": [
       "'hello world'"
      ]
     },
     "execution_count": 83,
     "metadata": {},
     "output_type": "execute_result"
    }
   ],
   "source": [
    "x"
   ]
  },
  {
   "cell_type": "code",
   "execution_count": 86,
   "id": "48f7f44d",
   "metadata": {},
   "outputs": [
    {
     "data": {
      "text/plain": [
       "'HELLO WORLD'"
      ]
     },
     "execution_count": 86,
     "metadata": {},
     "output_type": "execute_result"
    }
   ],
   "source": [
    "x.upper()\n",
    "#if I do (variable that has already been defined).[tab on keyboard] it will show different attributes and methods available on the string object\n",
    "\n",
    "# upper method makes the string upper case\n",
    "# Remember to have the parentheses"
   ]
  },
  {
   "cell_type": "code",
   "execution_count": 87,
   "id": "f2be2c3a",
   "metadata": {},
   "outputs": [
    {
     "data": {
      "text/plain": [
       "'hello world'"
      ]
     },
     "execution_count": 87,
     "metadata": {},
     "output_type": "execute_result"
    }
   ],
   "source": [
    "x.lower()"
   ]
  },
  {
   "cell_type": "code",
   "execution_count": 91,
   "id": "e00385a1",
   "metadata": {},
   "outputs": [
    {
     "data": {
      "text/plain": [
       "['hello', 'world']"
      ]
     },
     "execution_count": 91,
     "metadata": {},
     "output_type": "execute_result"
    }
   ],
   "source": [
    "x.split()\n",
    "# split string based on white space or letter passed in"
   ]
  },
  {
   "cell_type": "code",
   "execution_count": 94,
   "id": "31f5e77f",
   "metadata": {},
   "outputs": [
    {
     "data": {
      "text/plain": [
       "['h', 'llo world']"
      ]
     },
     "execution_count": 94,
     "metadata": {},
     "output_type": "execute_result"
    }
   ],
   "source": [
    "x.split(\"e\")\n",
    "# make sure not to forget the \"\""
   ]
  },
  {
   "cell_type": "code",
   "execution_count": 93,
   "id": "c9c71186",
   "metadata": {},
   "outputs": [
    {
     "data": {
      "text/plain": [
       "['hell', ' w', 'rld']"
      ]
     },
     "execution_count": 93,
     "metadata": {},
     "output_type": "execute_result"
    }
   ],
   "source": [
    "x.split(\"o\")"
   ]
  },
  {
   "cell_type": "markdown",
   "id": "35340c8c",
   "metadata": {},
   "source": [
    "## Print Formatting with Strings"
   ]
  },
  {
   "cell_type": "markdown",
   "id": "dad7be95",
   "metadata": {},
   "source": [
    "You can use strings inside the print function. \n",
    "\n",
    "Ex: I want to say Hello, \"the persons name\"\n",
    "\n",
    "I can assign a variable:\n",
    "\n",
    "persons_name = \"the persons name\"\n",
    "\n",
    "Then I can print the phrase through string concatenation:\n",
    "\n",
    "print(\"Hello, \" + persons_name)"
   ]
  },
  {
   "cell_type": "markdown",
   "id": "8683de6d",
   "metadata": {},
   "source": [
    "String Interpolation: sticking a variable in a string"
   ]
  },
  {
   "cell_type": "markdown",
   "id": "afe29e16",
   "metadata": {},
   "source": [
    "2 methods:\n",
    "* .format() method\n",
    "* f-strings (formatted string litterals)"
   ]
  },
  {
   "cell_type": "markdown",
   "id": "a1165887",
   "metadata": {},
   "source": [
    "##### .Format() method"
   ]
  },
  {
   "cell_type": "markdown",
   "id": "ebff750a",
   "metadata": {},
   "source": [
    "Syntax:\n",
    "    \n",
    "'String here {} then also {}'.format('something1','something2')"
   ]
  },
  {
   "cell_type": "code",
   "execution_count": 98,
   "id": "6e714e5f",
   "metadata": {},
   "outputs": [
    {
     "name": "stdout",
     "output_type": "stream",
     "text": [
      "This is a string INSERTED\n"
     ]
    }
   ],
   "source": [
    "print('This is a string {}'.format('INSERTED'))"
   ]
  },
  {
   "cell_type": "code",
   "execution_count": 99,
   "id": "c85377b5",
   "metadata": {},
   "outputs": [
    {
     "name": "stdout",
     "output_type": "stream",
     "text": [
      "The fox brown quick\n"
     ]
    }
   ],
   "source": [
    "print('The {} {} {}'.format('fox','brown','quick'))"
   ]
  },
  {
   "cell_type": "code",
   "execution_count": 101,
   "id": "de67e3c2",
   "metadata": {},
   "outputs": [
    {
     "name": "stdout",
     "output_type": "stream",
     "text": [
      "The quick brown fox\n"
     ]
    }
   ],
   "source": [
    "print('The {2} {1} {0}'.format('fox','brown','quick'))\n",
    "# We can use indexing int eh curly braces, which lets Python know the order we want the values inside the format parentheses"
   ]
  },
  {
   "cell_type": "code",
   "execution_count": 102,
   "id": "121d24af",
   "metadata": {},
   "outputs": [
    {
     "name": "stdout",
     "output_type": "stream",
     "text": [
      "The fox fox fox\n"
     ]
    }
   ],
   "source": [
    "print('The {0} {0} {0}'.format('fox','brown','quick'))"
   ]
  },
  {
   "cell_type": "code",
   "execution_count": 104,
   "id": "8e59c7ec",
   "metadata": {},
   "outputs": [
    {
     "name": "stdout",
     "output_type": "stream",
     "text": [
      "The quick brown fox\n"
     ]
    }
   ],
   "source": [
    "print('The {q} {b} {f}'.format(f='fox',b='brown',q='quick'))\n",
    "# instead of indexing you can assign the values a variable to go off of. "
   ]
  },
  {
   "cell_type": "markdown",
   "id": "fbe4bd5d",
   "metadata": {},
   "source": [
    "###### Float Formatting follows \"{value:width.precision f}\""
   ]
  },
  {
   "cell_type": "markdown",
   "id": "233dd321",
   "metadata": {},
   "source": [
    "width: how much whitespace between values\n",
    "\n",
    "precision: to what decimal place do you want the float value"
   ]
  },
  {
   "cell_type": "code",
   "execution_count": 105,
   "id": "5f6de851",
   "metadata": {},
   "outputs": [],
   "source": [
    "result=100/77"
   ]
  },
  {
   "cell_type": "code",
   "execution_count": 106,
   "id": "7beee6a6",
   "metadata": {},
   "outputs": [
    {
     "data": {
      "text/plain": [
       "1.2987012987012987"
      ]
     },
     "execution_count": 106,
     "metadata": {},
     "output_type": "execute_result"
    }
   ],
   "source": [
    "result"
   ]
  },
  {
   "cell_type": "code",
   "execution_count": 107,
   "id": "1fee06d6",
   "metadata": {},
   "outputs": [
    {
     "name": "stdout",
     "output_type": "stream",
     "text": [
      "The result was 1.2987012987012987\n"
     ]
    }
   ],
   "source": [
    "print(\"The result was {}\".format(result))"
   ]
  },
  {
   "cell_type": "code",
   "execution_count": 108,
   "id": "44d588ef",
   "metadata": {},
   "outputs": [
    {
     "name": "stdout",
     "output_type": "stream",
     "text": [
      "The result was 1.2987012987012987\n"
     ]
    }
   ],
   "source": [
    "print(\"The result was {r}\".format(r=result))"
   ]
  },
  {
   "cell_type": "code",
   "execution_count": 109,
   "id": "6c2c8803",
   "metadata": {},
   "outputs": [
    {
     "name": "stdout",
     "output_type": "stream",
     "text": [
      "The result was 1.299\n"
     ]
    }
   ],
   "source": [
    "print(\"The result was {r:1.3f}\".format(r=result))"
   ]
  },
  {
   "cell_type": "code",
   "execution_count": 110,
   "id": "35c9caec",
   "metadata": {},
   "outputs": [
    {
     "name": "stdout",
     "output_type": "stream",
     "text": [
      "The result was 1.30\n"
     ]
    }
   ],
   "source": [
    "print(\"The result was {r:1.2f}\".format(r=result))"
   ]
  },
  {
   "cell_type": "code",
   "execution_count": 111,
   "id": "b54b6e95",
   "metadata": {},
   "outputs": [],
   "source": [
    "result=104.2345"
   ]
  },
  {
   "cell_type": "code",
   "execution_count": 112,
   "id": "4bdb8cce",
   "metadata": {},
   "outputs": [
    {
     "data": {
      "text/plain": [
       "104.2345"
      ]
     },
     "execution_count": 112,
     "metadata": {},
     "output_type": "execute_result"
    }
   ],
   "source": [
    "result"
   ]
  },
  {
   "cell_type": "code",
   "execution_count": 113,
   "id": "614bc5fe",
   "metadata": {},
   "outputs": [
    {
     "name": "stdout",
     "output_type": "stream",
     "text": [
      "The result was 104.23\n"
     ]
    }
   ],
   "source": [
    "print(\"The result was {r:1.2f}\".format(r=result))"
   ]
  },
  {
   "cell_type": "markdown",
   "id": "1ce7e427",
   "metadata": {},
   "source": [
    "##### F strings (formatted string literals)"
   ]
  },
  {
   "cell_type": "code",
   "execution_count": 114,
   "id": "55915464",
   "metadata": {},
   "outputs": [],
   "source": [
    "name = \"Jose\""
   ]
  },
  {
   "cell_type": "code",
   "execution_count": 115,
   "id": "1b394cab",
   "metadata": {},
   "outputs": [
    {
     "name": "stdout",
     "output_type": "stream",
     "text": [
      "Hello, his name is Jose\n"
     ]
    }
   ],
   "source": [
    "print(\"Hello, his name is {}\".format(name))\n",
    "# This is the previous method, or dot format"
   ]
  },
  {
   "cell_type": "code",
   "execution_count": 118,
   "id": "4d3f2c30",
   "metadata": {},
   "outputs": [
    {
     "name": "stdout",
     "output_type": "stream",
     "text": [
      "Hello, his name is Jose\n"
     ]
    }
   ],
   "source": [
    "print(f\"Hello, his name is {name}\")\n",
    "# place the f before the quotes. \n",
    "# place the variable desired in the quotes"
   ]
  },
  {
   "cell_type": "code",
   "execution_count": 119,
   "id": "fe54f889",
   "metadata": {},
   "outputs": [],
   "source": [
    "name = \"Sam\"\n",
    "age = 3"
   ]
  },
  {
   "cell_type": "code",
   "execution_count": 120,
   "id": "f90a31cb",
   "metadata": {},
   "outputs": [
    {
     "name": "stdout",
     "output_type": "stream",
     "text": [
      "Sam is 3 years old\n"
     ]
    }
   ],
   "source": [
    "print(f\"{name} is {age} years old\")"
   ]
  }
 ],
 "metadata": {
  "kernelspec": {
   "display_name": "Python 3 (ipykernel)",
   "language": "python",
   "name": "python3"
  },
  "language_info": {
   "codemirror_mode": {
    "name": "ipython",
    "version": 3
   },
   "file_extension": ".py",
   "mimetype": "text/x-python",
   "name": "python",
   "nbconvert_exporter": "python",
   "pygments_lexer": "ipython3",
   "version": "3.9.7"
  }
 },
 "nbformat": 4,
 "nbformat_minor": 5
}
