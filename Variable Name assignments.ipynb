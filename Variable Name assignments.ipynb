{
 "cells": [
  {
   "cell_type": "markdown",
   "id": "bd2b8266",
   "metadata": {},
   "source": [
    "# Variable Name assignments"
   ]
  },
  {
   "cell_type": "markdown",
   "id": "f47f6719",
   "metadata": {},
   "source": [
    "### Rules for variable names"
   ]
  },
  {
   "cell_type": "markdown",
   "id": "001493c5",
   "metadata": {},
   "source": [
    "#### Cannot Be"
   ]
  },
  {
   "cell_type": "markdown",
   "id": "6e8a96b0",
   "metadata": {},
   "source": [
    "1. Names cannot start with numbers\n",
    "2. There can be no spaces in a name\n",
    "3. Cannout use these symbols: :'\"<>/? \\ ()!@#$%^&*~+-,\n",
    "4. Preferably without special meaning like \"list\" or \"str\""
   ]
  },
  {
   "cell_type": "markdown",
   "id": "a3584322",
   "metadata": {},
   "source": [
    "#### Can Be"
   ]
  },
  {
   "cell_type": "markdown",
   "id": "72c8de67",
   "metadata": {},
   "source": [
    "1. Can have underscores\n",
    "2. Preferably lowercase"
   ]
  },
  {
   "cell_type": "markdown",
   "id": "d60d00d6",
   "metadata": {},
   "source": [
    "### Dynamic Typing"
   ]
  },
  {
   "cell_type": "markdown",
   "id": "eb14f4b0",
   "metadata": {},
   "source": [
    "#### Pros"
   ]
  },
  {
   "cell_type": "markdown",
   "id": "63a0842d",
   "metadata": {},
   "source": [
    "1. easy to work with\n",
    "2. Faster development time\n",
    "3. Easier to read"
   ]
  },
  {
   "cell_type": "markdown",
   "id": "9921289d",
   "metadata": {},
   "source": [
    "#### Cons"
   ]
  },
  {
   "cell_type": "markdown",
   "id": "08c9cdd3",
   "metadata": {},
   "source": [
    "1. May result in bugs for unexpected data types\n",
    "2. Needing to be aware of the data type, use type()"
   ]
  },
  {
   "cell_type": "markdown",
   "id": "6e0ab718",
   "metadata": {},
   "source": [
    "## Practice"
   ]
  },
  {
   "cell_type": "markdown",
   "id": "d9532a6a",
   "metadata": {},
   "source": [
    "assign variable \"a\" a value"
   ]
  },
  {
   "cell_type": "code",
   "execution_count": 4,
   "id": "138c82a0",
   "metadata": {},
   "outputs": [],
   "source": [
    "a = 3"
   ]
  },
  {
   "cell_type": "code",
   "execution_count": 6,
   "id": "08dfdb8c",
   "metadata": {},
   "outputs": [
    {
     "data": {
      "text/plain": [
       "3"
      ]
     },
     "execution_count": 6,
     "metadata": {},
     "output_type": "execute_result"
    }
   ],
   "source": [
    "a"
   ]
  },
  {
   "cell_type": "markdown",
   "id": "cc367f24",
   "metadata": {},
   "source": [
    "If we assign the variable \"a\" a new value, the new value will be shown."
   ]
  },
  {
   "cell_type": "code",
   "execution_count": 21,
   "id": "7f27b1c2",
   "metadata": {},
   "outputs": [],
   "source": [
    "a=5"
   ]
  },
  {
   "cell_type": "code",
   "execution_count": 23,
   "id": "13c298e8",
   "metadata": {},
   "outputs": [
    {
     "data": {
      "text/plain": [
       "5"
      ]
     },
     "execution_count": 23,
     "metadata": {},
     "output_type": "execute_result"
    }
   ],
   "source": [
    "a"
   ]
  },
  {
   "cell_type": "code",
   "execution_count": 27,
   "id": "3d73b061",
   "metadata": {},
   "outputs": [
    {
     "data": {
      "text/plain": [
       "10"
      ]
     },
     "execution_count": 27,
     "metadata": {},
     "output_type": "execute_result"
    }
   ],
   "source": [
    "a + a\n",
    "#If we add the variable a to itself, then it becomes double the value in the \n",
    "#variable. In this instance, it is 10."
   ]
  },
  {
   "cell_type": "code",
   "execution_count": 28,
   "id": "21d51dec",
   "metadata": {},
   "outputs": [],
   "source": [
    "a = a + a\n",
    "# We can reassign the variable to equal the addition of itself."
   ]
  },
  {
   "cell_type": "code",
   "execution_count": 30,
   "id": "6bd2fe95",
   "metadata": {},
   "outputs": [
    {
     "data": {
      "text/plain": [
       "10"
      ]
     },
     "execution_count": 30,
     "metadata": {},
     "output_type": "execute_result"
    }
   ],
   "source": [
    "a"
   ]
  },
  {
   "cell_type": "code",
   "execution_count": 32,
   "id": "8dea3b6b",
   "metadata": {},
   "outputs": [],
   "source": [
    "a = a + a\n",
    "# If we do this action again, then the value of a will be 20 because a now has the value of 10."
   ]
  },
  {
   "cell_type": "code",
   "execution_count": 33,
   "id": "34149bcd",
   "metadata": {},
   "outputs": [
    {
     "data": {
      "text/plain": [
       "20"
      ]
     },
     "execution_count": 33,
     "metadata": {},
     "output_type": "execute_result"
    }
   ],
   "source": [
    "a"
   ]
  },
  {
   "cell_type": "code",
   "execution_count": 34,
   "id": "8f27ce69",
   "metadata": {},
   "outputs": [
    {
     "data": {
      "text/plain": [
       "int"
      ]
     },
     "execution_count": 34,
     "metadata": {},
     "output_type": "execute_result"
    }
   ],
   "source": [
    "type(a)\n",
    "# We can determine what data type is the variable \"a\" by using the type function."
   ]
  },
  {
   "cell_type": "code",
   "execution_count": 35,
   "id": "2d523bfc",
   "metadata": {},
   "outputs": [],
   "source": [
    "a = 30.1"
   ]
  },
  {
   "cell_type": "code",
   "execution_count": 41,
   "id": "21f1a375",
   "metadata": {},
   "outputs": [
    {
     "data": {
      "text/plain": [
       "float"
      ]
     },
     "execution_count": 41,
     "metadata": {},
     "output_type": "execute_result"
    }
   ],
   "source": [
    "type(a)"
   ]
  },
  {
   "cell_type": "markdown",
   "id": "457b41a6",
   "metadata": {},
   "source": [
    "#### Variable Assignments"
   ]
  },
  {
   "cell_type": "code",
   "execution_count": 46,
   "id": "b51e75a4",
   "metadata": {},
   "outputs": [],
   "source": [
    "my_income=100\n",
    "tax_rate=0.1\n",
    "my_taxes= my_income * tax_rate\n",
    "# We can define variables and then do arithmetic operations with said variables. "
   ]
  },
  {
   "cell_type": "code",
   "execution_count": 45,
   "id": "931c1ef8",
   "metadata": {},
   "outputs": [
    {
     "data": {
      "text/plain": [
       "10.0"
      ]
     },
     "execution_count": 45,
     "metadata": {},
     "output_type": "execute_result"
    }
   ],
   "source": [
    "my_taxes"
   ]
  }
 ],
 "metadata": {
  "kernelspec": {
   "display_name": "Python 3 (ipykernel)",
   "language": "python",
   "name": "python3"
  },
  "language_info": {
   "codemirror_mode": {
    "name": "ipython",
    "version": 3
   },
   "file_extension": ".py",
   "mimetype": "text/x-python",
   "name": "python",
   "nbconvert_exporter": "python",
   "pygments_lexer": "ipython3",
   "version": "3.9.7"
  }
 },
 "nbformat": 4,
 "nbformat_minor": 5
}
