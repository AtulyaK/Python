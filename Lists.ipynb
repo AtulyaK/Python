{
 "cells": [
  {
   "cell_type": "markdown",
   "id": "7bf5a63a",
   "metadata": {},
   "source": [
    "# List"
   ]
  },
  {
   "cell_type": "markdown",
   "id": "66162601",
   "metadata": {},
   "source": [
    "#### Basic list actions"
   ]
  },
  {
   "cell_type": "markdown",
   "id": "492f9c2d",
   "metadata": {},
   "source": [
    "Just like in strings we are able to index and slice."
   ]
  },
  {
   "cell_type": "code",
   "execution_count": 1,
   "id": "da72d869",
   "metadata": {},
   "outputs": [],
   "source": [
    "my_list=[1,2,3]"
   ]
  },
  {
   "cell_type": "code",
   "execution_count": 2,
   "id": "d0285ab7",
   "metadata": {},
   "outputs": [],
   "source": [
    "my_list = ['string',12.2,23]"
   ]
  },
  {
   "cell_type": "code",
   "execution_count": 4,
   "id": "d09b5aae",
   "metadata": {},
   "outputs": [
    {
     "data": {
      "text/plain": [
       "3"
      ]
     },
     "execution_count": 4,
     "metadata": {},
     "output_type": "execute_result"
    }
   ],
   "source": [
    "len(my_list)"
   ]
  },
  {
   "cell_type": "code",
   "execution_count": 5,
   "id": "93a8e0a7",
   "metadata": {},
   "outputs": [],
   "source": [
    "my_list = [1,2,3,4,5,6,7]"
   ]
  },
  {
   "cell_type": "code",
   "execution_count": 6,
   "id": "74a0b3d3",
   "metadata": {},
   "outputs": [
    {
     "data": {
      "text/plain": [
       "1"
      ]
     },
     "execution_count": 6,
     "metadata": {},
     "output_type": "execute_result"
    }
   ],
   "source": [
    "my_list[0]"
   ]
  },
  {
   "cell_type": "code",
   "execution_count": 7,
   "id": "68ba8a18",
   "metadata": {},
   "outputs": [
    {
     "data": {
      "text/plain": [
       "[2, 3, 4, 5, 6, 7]"
      ]
     },
     "execution_count": 7,
     "metadata": {},
     "output_type": "execute_result"
    }
   ],
   "source": [
    "my_list[1:]"
   ]
  },
  {
   "cell_type": "code",
   "execution_count": 8,
   "id": "f4d5d5b7",
   "metadata": {},
   "outputs": [
    {
     "data": {
      "text/plain": [
       "[1, 2, 3, 4, 5, 6, 7]"
      ]
     },
     "execution_count": 8,
     "metadata": {},
     "output_type": "execute_result"
    }
   ],
   "source": [
    "my_list"
   ]
  },
  {
   "cell_type": "code",
   "execution_count": 10,
   "id": "860ecb90",
   "metadata": {},
   "outputs": [],
   "source": [
    "secondmy_list=[8,9,10]"
   ]
  },
  {
   "cell_type": "code",
   "execution_count": 11,
   "id": "f30ac848",
   "metadata": {},
   "outputs": [
    {
     "data": {
      "text/plain": [
       "[1, 2, 3, 4, 5, 6, 7, 8, 9, 10]"
      ]
     },
     "execution_count": 11,
     "metadata": {},
     "output_type": "execute_result"
    }
   ],
   "source": [
    "my_list+secondmy_list"
   ]
  },
  {
   "cell_type": "code",
   "execution_count": 12,
   "id": "cab1f3ec",
   "metadata": {},
   "outputs": [],
   "source": [
    "new_list= my_list+secondmy_list"
   ]
  },
  {
   "cell_type": "code",
   "execution_count": 13,
   "id": "1ffe39f8",
   "metadata": {},
   "outputs": [
    {
     "data": {
      "text/plain": [
       "[1, 2, 3, 4, 5, 6, 7, 8, 9, 10]"
      ]
     },
     "execution_count": 13,
     "metadata": {},
     "output_type": "execute_result"
    }
   ],
   "source": [
    "new_list"
   ]
  },
  {
   "cell_type": "code",
   "execution_count": 14,
   "id": "e858ce68",
   "metadata": {},
   "outputs": [],
   "source": [
    "new_list[0]=\"ONE IN A NUMBER FORM\""
   ]
  },
  {
   "cell_type": "code",
   "execution_count": 15,
   "id": "c9b7bcf3",
   "metadata": {},
   "outputs": [
    {
     "data": {
      "text/plain": [
       "['ONE IN A NUMBER FORM', 2, 3, 4, 5, 6, 7, 8, 9, 10]"
      ]
     },
     "execution_count": 15,
     "metadata": {},
     "output_type": "execute_result"
    }
   ],
   "source": [
    "new_list"
   ]
  },
  {
   "cell_type": "markdown",
   "id": "e30e08bb",
   "metadata": {},
   "source": [
    "We can change the values of a list by using variable[index value]= new value/'new value'"
   ]
  },
  {
   "cell_type": "markdown",
   "id": "2edc49c9",
   "metadata": {},
   "source": [
    "#### Append"
   ]
  },
  {
   "cell_type": "markdown",
   "id": "e8c84526",
   "metadata": {},
   "source": [
    "In order to add an element to the end of the list: append"
   ]
  },
  {
   "cell_type": "code",
   "execution_count": 16,
   "id": "8327bf32",
   "metadata": {},
   "outputs": [],
   "source": [
    "new_list.append(11)"
   ]
  },
  {
   "cell_type": "code",
   "execution_count": 17,
   "id": "49f90853",
   "metadata": {},
   "outputs": [
    {
     "data": {
      "text/plain": [
       "['ONE IN A NUMBER FORM', 2, 3, 4, 5, 6, 7, 8, 9, 10, 11]"
      ]
     },
     "execution_count": 17,
     "metadata": {},
     "output_type": "execute_result"
    }
   ],
   "source": [
    "new_list"
   ]
  },
  {
   "cell_type": "code",
   "execution_count": 18,
   "id": "215af57d",
   "metadata": {},
   "outputs": [],
   "source": [
    "new_list.append(12)"
   ]
  },
  {
   "cell_type": "code",
   "execution_count": 19,
   "id": "062e6294",
   "metadata": {},
   "outputs": [
    {
     "data": {
      "text/plain": [
       "['ONE IN A NUMBER FORM', 2, 3, 4, 5, 6, 7, 8, 9, 10, 11, 12]"
      ]
     },
     "execution_count": 19,
     "metadata": {},
     "output_type": "execute_result"
    }
   ],
   "source": [
    "new_list"
   ]
  },
  {
   "cell_type": "markdown",
   "id": "185ed023",
   "metadata": {},
   "source": [
    "#### Pop method"
   ]
  },
  {
   "cell_type": "markdown",
   "id": "3c5796a1",
   "metadata": {},
   "source": [
    "Pop method \"pops\" off the last item in a list"
   ]
  },
  {
   "cell_type": "code",
   "execution_count": 20,
   "id": "8e32d2df",
   "metadata": {},
   "outputs": [
    {
     "data": {
      "text/plain": [
       "12"
      ]
     },
     "execution_count": 20,
     "metadata": {},
     "output_type": "execute_result"
    }
   ],
   "source": [
    "new_list.pop()"
   ]
  },
  {
   "cell_type": "code",
   "execution_count": 21,
   "id": "12b38c18",
   "metadata": {},
   "outputs": [
    {
     "data": {
      "text/plain": [
       "['ONE IN A NUMBER FORM', 2, 3, 4, 5, 6, 7, 8, 9, 10, 11]"
      ]
     },
     "execution_count": 21,
     "metadata": {},
     "output_type": "execute_result"
    }
   ],
   "source": [
    "new_list"
   ]
  },
  {
   "cell_type": "markdown",
   "id": "ba67d3a5",
   "metadata": {},
   "source": [
    "As shown above, the last item in the list was kicked off the list and returned"
   ]
  },
  {
   "cell_type": "code",
   "execution_count": 22,
   "id": "1aeaabbc",
   "metadata": {},
   "outputs": [],
   "source": [
    "popped_item=new_list.pop()"
   ]
  },
  {
   "cell_type": "code",
   "execution_count": 23,
   "id": "b2baf3dc",
   "metadata": {},
   "outputs": [
    {
     "data": {
      "text/plain": [
       "11"
      ]
     },
     "execution_count": 23,
     "metadata": {},
     "output_type": "execute_result"
    }
   ],
   "source": [
    "popped_item"
   ]
  },
  {
   "cell_type": "code",
   "execution_count": 24,
   "id": "9852ec6d",
   "metadata": {},
   "outputs": [
    {
     "data": {
      "text/plain": [
       "['ONE IN A NUMBER FORM', 2, 3, 4, 5, 6, 7, 8, 9, 10]"
      ]
     },
     "execution_count": 24,
     "metadata": {},
     "output_type": "execute_result"
    }
   ],
   "source": [
    "new_list"
   ]
  },
  {
   "cell_type": "markdown",
   "id": "bd368cef",
   "metadata": {},
   "source": [
    "You can also pop specific index positions"
   ]
  },
  {
   "cell_type": "code",
   "execution_count": 26,
   "id": "54efabda",
   "metadata": {},
   "outputs": [
    {
     "data": {
      "text/plain": [
       "'ONE IN A NUMBER FORM'"
      ]
     },
     "execution_count": 26,
     "metadata": {},
     "output_type": "execute_result"
    }
   ],
   "source": [
    "new_list.pop(0)"
   ]
  },
  {
   "cell_type": "code",
   "execution_count": 27,
   "id": "23dcb1a8",
   "metadata": {},
   "outputs": [
    {
     "data": {
      "text/plain": [
       "[2, 3, 4, 5, 6, 7, 8, 9, 10]"
      ]
     },
     "execution_count": 27,
     "metadata": {},
     "output_type": "execute_result"
    }
   ],
   "source": [
    "new_list"
   ]
  },
  {
   "cell_type": "markdown",
   "id": "2c232746",
   "metadata": {},
   "source": [
    "As shown the first value of the list was popped off."
   ]
  },
  {
   "cell_type": "markdown",
   "id": "81a83f78",
   "metadata": {},
   "source": [
    "Reverse indexing also works for a list like a string."
   ]
  },
  {
   "cell_type": "markdown",
   "id": "eddcabc0",
   "metadata": {},
   "source": [
    "#### Sort Method"
   ]
  },
  {
   "cell_type": "code",
   "execution_count": 29,
   "id": "fd031416",
   "metadata": {},
   "outputs": [],
   "source": [
    "num_list= [4,2,4,5,7,2]\n",
    "list_two= ['a','b','f','t','i']"
   ]
  },
  {
   "cell_type": "code",
   "execution_count": 31,
   "id": "553f0538",
   "metadata": {},
   "outputs": [],
   "source": [
    "num_list.sort()"
   ]
  },
  {
   "cell_type": "code",
   "execution_count": 32,
   "id": "30eb41ec",
   "metadata": {},
   "outputs": [
    {
     "data": {
      "text/plain": [
       "[2, 2, 4, 4, 5, 7]"
      ]
     },
     "execution_count": 32,
     "metadata": {},
     "output_type": "execute_result"
    }
   ],
   "source": [
    "num_list"
   ]
  },
  {
   "cell_type": "markdown",
   "id": "5bbf1442",
   "metadata": {},
   "source": [
    "The sort method does not return anything it just sorts the items in the list."
   ]
  },
  {
   "cell_type": "markdown",
   "id": "abcf9fd1",
   "metadata": {},
   "source": [
    "When using .sort() method, you cannot assign the values to something else because it does not return anything. Instead use .sort() and then do (new variable) = variable that was sorted"
   ]
  },
  {
   "cell_type": "markdown",
   "id": "552f9b47",
   "metadata": {},
   "source": [
    "#### Reverse Method "
   ]
  },
  {
   "cell_type": "code",
   "execution_count": 33,
   "id": "1dfaca23",
   "metadata": {},
   "outputs": [],
   "source": [
    "list_two.reverse()"
   ]
  },
  {
   "cell_type": "code",
   "execution_count": 34,
   "id": "0717b40a",
   "metadata": {},
   "outputs": [
    {
     "data": {
      "text/plain": [
       "['i', 't', 'f', 'b', 'a']"
      ]
     },
     "execution_count": 34,
     "metadata": {},
     "output_type": "execute_result"
    }
   ],
   "source": [
    "list_two"
   ]
  },
  {
   "cell_type": "markdown",
   "id": "890dab76",
   "metadata": {},
   "source": [
    "The reverse method reverses the sorting of the variable"
   ]
  }
 ],
 "metadata": {
  "kernelspec": {
   "display_name": "Python 3 (ipykernel)",
   "language": "python",
   "name": "python3"
  },
  "language_info": {
   "codemirror_mode": {
    "name": "ipython",
    "version": 3
   },
   "file_extension": ".py",
   "mimetype": "text/x-python",
   "name": "python",
   "nbconvert_exporter": "python",
   "pygments_lexer": "ipython3",
   "version": "3.9.7"
  }
 },
 "nbformat": 4,
 "nbformat_minor": 5
}
