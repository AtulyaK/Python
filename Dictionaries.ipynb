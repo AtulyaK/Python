{
 "cells": [
  {
   "cell_type": "markdown",
   "id": "7ae0ce01",
   "metadata": {},
   "source": [
    "# Dictionaries"
   ]
  },
  {
   "cell_type": "markdown",
   "id": "603bb141",
   "metadata": {},
   "source": [
    "Definitions:\n",
    "    \n",
    "    1. Dictionaries are unordered mappings for stroing objects.\n",
    "    2. Dictonaries use ke-value pairing\n",
    "        *Key-value pair allows users to quickly grab objects without needing            to know indexing"
   ]
  },
  {
   "cell_type": "markdown",
   "id": "77d87a3b",
   "metadata": {},
   "source": [
    "Dictionaries use curly braces and colons to show keys and associated values\n",
    "{'key1':'value1','key2':'value2"
   ]
  },
  {
   "cell_type": "markdown",
   "id": "a8d64f96",
   "metadata": {},
   "source": [
    "Objects retrieved by key name "
   ]
  },
  {
   "cell_type": "markdown",
   "id": "86d43991",
   "metadata": {},
   "source": [
    "Dictonaries are unordered and cannot be sorted"
   ]
  },
  {
   "cell_type": "markdown",
   "id": "ab496ae7",
   "metadata": {},
   "source": [
    "In contrast, Lists are objects that can be retrieved by location."
   ]
  },
  {
   "cell_type": "markdown",
   "id": "1ffaaf27",
   "metadata": {},
   "source": [
    "Ordered Sequences can be indexed or sliced"
   ]
  },
  {
   "cell_type": "code",
   "execution_count": 4,
   "id": "190d84c8",
   "metadata": {},
   "outputs": [],
   "source": [
    "my_dict = {'key1':'value1','key2':'value2'}"
   ]
  },
  {
   "cell_type": "code",
   "execution_count": 5,
   "id": "dfda10b0",
   "metadata": {},
   "outputs": [
    {
     "data": {
      "text/plain": [
       "{'key1': 'value1', 'key2': 'value2'}"
      ]
     },
     "execution_count": 5,
     "metadata": {},
     "output_type": "execute_result"
    }
   ],
   "source": [
    "my_dict"
   ]
  },
  {
   "cell_type": "code",
   "execution_count": 6,
   "id": "579962ea",
   "metadata": {},
   "outputs": [
    {
     "data": {
      "text/plain": [
       "'value1'"
      ]
     },
     "execution_count": 6,
     "metadata": {},
     "output_type": "execute_result"
    }
   ],
   "source": [
    "my_dict['key1']"
   ]
  },
  {
   "cell_type": "code",
   "execution_count": 7,
   "id": "85320d6d",
   "metadata": {},
   "outputs": [],
   "source": [
    "prices_lookup = {'apple':2,'orange':1.99,'milk':5.80}"
   ]
  },
  {
   "cell_type": "code",
   "execution_count": 8,
   "id": "3d92d3f2",
   "metadata": {},
   "outputs": [
    {
     "data": {
      "text/plain": [
       "2"
      ]
     },
     "execution_count": 8,
     "metadata": {},
     "output_type": "execute_result"
    }
   ],
   "source": [
    "prices_lookup['apple']"
   ]
  },
  {
   "cell_type": "markdown",
   "id": "ecca0dbf",
   "metadata": {},
   "source": [
    "Dictionaries can hold many values: lists, other dictionaries, integers, strings, and more."
   ]
  },
  {
   "cell_type": "code",
   "execution_count": 9,
   "id": "0e405774",
   "metadata": {},
   "outputs": [],
   "source": [
    "d = {'k1':123,'k2':[1,2,3],'k3':{'insideKey':100}}"
   ]
  },
  {
   "cell_type": "code",
   "execution_count": 10,
   "id": "36d390c7",
   "metadata": {},
   "outputs": [
    {
     "data": {
      "text/plain": [
       "[1, 2, 3]"
      ]
     },
     "execution_count": 10,
     "metadata": {},
     "output_type": "execute_result"
    }
   ],
   "source": [
    "d['k2']"
   ]
  },
  {
   "cell_type": "code",
   "execution_count": 11,
   "id": "74643378",
   "metadata": {},
   "outputs": [
    {
     "data": {
      "text/plain": [
       "{'insideKey': 100}"
      ]
     },
     "execution_count": 11,
     "metadata": {},
     "output_type": "execute_result"
    }
   ],
   "source": [
    "d['k3']"
   ]
  },
  {
   "cell_type": "code",
   "execution_count": 12,
   "id": "fecab291",
   "metadata": {},
   "outputs": [
    {
     "data": {
      "text/plain": [
       "100"
      ]
     },
     "execution_count": 12,
     "metadata": {},
     "output_type": "execute_result"
    }
   ],
   "source": [
    "d['k3']['insideKey']"
   ]
  },
  {
   "cell_type": "code",
   "execution_count": 13,
   "id": "28639ef3",
   "metadata": {},
   "outputs": [
    {
     "data": {
      "text/plain": [
       "3"
      ]
     },
     "execution_count": 13,
     "metadata": {},
     "output_type": "execute_result"
    }
   ],
   "source": [
    "d['k2'][2]"
   ]
  },
  {
   "cell_type": "code",
   "execution_count": 15,
   "id": "ecd5cbee",
   "metadata": {},
   "outputs": [],
   "source": [
    "d_one={'key1':[\"a\",\"b\",\"c\"]}\n"
   ]
  },
  {
   "cell_type": "code",
   "execution_count": 18,
   "id": "92b46d31",
   "metadata": {},
   "outputs": [],
   "source": [
    "mylist = d_one['key1']"
   ]
  },
  {
   "cell_type": "code",
   "execution_count": 19,
   "id": "afe3e426",
   "metadata": {},
   "outputs": [
    {
     "data": {
      "text/plain": [
       "['a', 'b', 'c']"
      ]
     },
     "execution_count": 19,
     "metadata": {},
     "output_type": "execute_result"
    }
   ],
   "source": [
    "mylist"
   ]
  },
  {
   "cell_type": "code",
   "execution_count": 20,
   "id": "c5d19159",
   "metadata": {},
   "outputs": [],
   "source": [
    "letter = mylist[2]"
   ]
  },
  {
   "cell_type": "code",
   "execution_count": 21,
   "id": "765bf046",
   "metadata": {},
   "outputs": [
    {
     "data": {
      "text/plain": [
       "'c'"
      ]
     },
     "execution_count": 21,
     "metadata": {},
     "output_type": "execute_result"
    }
   ],
   "source": [
    "letter.lower()"
   ]
  },
  {
   "cell_type": "code",
   "execution_count": 23,
   "id": "a361655c",
   "metadata": {},
   "outputs": [
    {
     "data": {
      "text/plain": [
       "'c'"
      ]
     },
     "execution_count": 23,
     "metadata": {},
     "output_type": "execute_result"
    }
   ],
   "source": [
    "d_one['key1'][2].lower()"
   ]
  },
  {
   "cell_type": "markdown",
   "id": "b6d3efe2",
   "metadata": {},
   "source": [
    "You can stack calls on a singular object."
   ]
  },
  {
   "cell_type": "code",
   "execution_count": 24,
   "id": "9a1c1ebb",
   "metadata": {},
   "outputs": [],
   "source": [
    "d_two = {'k1':100,'k2':200}"
   ]
  },
  {
   "cell_type": "code",
   "execution_count": 25,
   "id": "acca444a",
   "metadata": {},
   "outputs": [],
   "source": [
    "d_two['k3']= 300"
   ]
  },
  {
   "cell_type": "code",
   "execution_count": 26,
   "id": "d50e0e07",
   "metadata": {},
   "outputs": [
    {
     "data": {
      "text/plain": [
       "{'k1': 100, 'k2': 200, 'k3': 300}"
      ]
     },
     "execution_count": 26,
     "metadata": {},
     "output_type": "execute_result"
    }
   ],
   "source": [
    "d_two"
   ]
  },
  {
   "cell_type": "markdown",
   "id": "48380b1c",
   "metadata": {},
   "source": [
    "We can add a key value pair to a dictionary by setting variable['new value'] = v/'key'"
   ]
  },
  {
   "cell_type": "markdown",
   "id": "7638a098",
   "metadata": {},
   "source": [
    "We can use the same idea to overide a current value with a new value"
   ]
  },
  {
   "cell_type": "markdown",
   "id": "3262c555",
   "metadata": {},
   "source": [
    "    In order to see all the keys of the dictionary use .key\n",
    "    In order to see all the values of the dictonary use .values\n",
    "    In order to see all the items of the dictonary use .items"
   ]
  },
  {
   "cell_type": "code",
   "execution_count": 27,
   "id": "0036b636",
   "metadata": {},
   "outputs": [],
   "source": [
    "d_three = {1:'key',2:'key2'}"
   ]
  }
 ],
 "metadata": {
  "kernelspec": {
   "display_name": "Python 3 (ipykernel)",
   "language": "python",
   "name": "python3"
  },
  "language_info": {
   "codemirror_mode": {
    "name": "ipython",
    "version": 3
   },
   "file_extension": ".py",
   "mimetype": "text/x-python",
   "name": "python",
   "nbconvert_exporter": "python",
   "pygments_lexer": "ipython3",
   "version": "3.9.7"
  }
 },
 "nbformat": 4,
 "nbformat_minor": 5
}
